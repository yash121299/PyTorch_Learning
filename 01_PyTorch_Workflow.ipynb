{
  "nbformat": 4,
  "nbformat_minor": 0,
  "metadata": {
    "colab": {
      "provenance": [],
      "authorship_tag": "ABX9TyMtwvLPJAxyXrDXvu3ldDE7",
      "include_colab_link": true
    },
    "kernelspec": {
      "name": "python3",
      "display_name": "Python 3"
    },
    "language_info": {
      "name": "python"
    }
  },
  "cells": [
    {
      "cell_type": "markdown",
      "metadata": {
        "id": "view-in-github",
        "colab_type": "text"
      },
      "source": [
        "<a href=\"https://colab.research.google.com/github/yash121299/PyTorch_Learning/blob/main/01_PyTorch_Workflow.ipynb\" target=\"_parent\"><img src=\"https://colab.research.google.com/assets/colab-badge.svg\" alt=\"Open In Colab\"/></a>"
      ]
    },
    {
      "cell_type": "markdown",
      "source": [
        "# PyTorch Workflow\n",
        "\n",
        "Exploring a PyTorch workflow end-to-end.\n",
        "\n",
        "Resources:\n",
        "* Ground Truth notebook (Github Link) - https://github.com/mrdbourke/pytorch-deep-learning/blob/main/01_pytorch_workflow.ipynb\n",
        "* Book Version (Online Notebook) - https://www.learnpytorch.io/01_pytorch_workflow/\n",
        "* Ask a Question (Github Discussions page) - https://github.com/mrdbourke/pytorch-deep-learning/discussions"
      ],
      "metadata": {
        "id": "sGVyX0Xxm0RR"
      }
    },
    {
      "cell_type": "markdown",
      "source": [
        "What we are covering:\n",
        "\n",
        "1. Data (preparing and loading)\n",
        "2. Build model\n",
        "3. Fitting the model to data (training)\n",
        "4. Making predictions and evaluating a model (inference)\n",
        "5. Saving and loading a model\n",
        "6. Putting it all together"
      ],
      "metadata": {
        "id": "aYHT7NCnSHGU"
      }
    },
    {
      "cell_type": "code",
      "source": [
        "# Making this into a dictonary so we can reference to it later on in the code\n",
        "what_were_covering = {\n",
        "    1: \"data (prepare and load)\",\n",
        "    2: \"build model\",\n",
        "    3: \"fitting the model to data (training)\",\n",
        "    4: \"Making predictions and evaluating the model (inference)\",\n",
        "    5: \"Saving and loading the model\",\n",
        "    6: \"Putting it all together\"\n",
        "}\n",
        "what_were_covering"
      ],
      "metadata": {
        "colab": {
          "base_uri": "https://localhost:8080/"
        },
        "id": "E4XvgR1mUCP2",
        "outputId": "3883df49-264c-4914-bc6d-3ea11dbdd1fe"
      },
      "execution_count": 50,
      "outputs": [
        {
          "output_type": "execute_result",
          "data": {
            "text/plain": [
              "{1: 'data (prepare and load)',\n",
              " 2: 'build model',\n",
              " 3: 'fitting the model to data (training)',\n",
              " 4: 'Making predictions and evaluating the model (inference)',\n",
              " 5: 'Saving and loading the model',\n",
              " 6: 'Putting it all together'}"
            ]
          },
          "metadata": {},
          "execution_count": 50
        }
      ]
    },
    {
      "cell_type": "code",
      "source": [
        "#Importing Libraries\n",
        "import torch\n",
        "from torch import nn # nn contains all of Pytorch's building blocks for neural networks\n",
        "import matplotlib.pyplot as plt\n",
        "\n",
        "print(torch.__version__)"
      ],
      "metadata": {
        "colab": {
          "base_uri": "https://localhost:8080/"
        },
        "id": "eD95f7CZUq6s",
        "outputId": "720a612d-03aa-4af5-9420-fc6775eca65d"
      },
      "execution_count": 51,
      "outputs": [
        {
          "output_type": "stream",
          "name": "stdout",
          "text": [
            "2.6.0+cu124\n"
          ]
        }
      ]
    },
    {
      "cell_type": "markdown",
      "source": [
        "`nn` Module Documentation - https://docs.pytorch.org/docs/stable/nn.html\n",
        "\n",
        "`nn` contains the building blocks (mostly layers) for neural networks. Our job is to organize those layers to create any type of neural networks. A neural network is basically a computational graph."
      ],
      "metadata": {
        "id": "6gxYCmhKVFGm"
      }
    },
    {
      "cell_type": "markdown",
      "source": [
        "## 1.Data (Preparing and Loading)\n",
        "\n",
        "Data can be almost anything... in machine learning.\n",
        "\n",
        "* Excel Spreadsheet\n",
        "* Images of any kind\n",
        "* Videos (YouTube has lots of data...)\n",
        "* Audio like songs or podcasts\n",
        "* DNA\n",
        "* Text\n",
        "\n",
        "Machine Learning (Deep Learning) is a game of 2 parts:\n",
        "1. Get data into a numerical representation.\n",
        "2. Build a model to learn patterns in that numerical representation\n",
        "\n",
        "\n",
        "To showcase this, let's create some *known* data using the linear regression formula\n",
        "\n",
        "     The general equation for a linear regression is y = mx + b, where:\n",
        "\n",
        "      y: is the dependent variable (the one you're trying to predict)\n",
        "\n",
        "      x: is the independent variable (the one you're using to make predictions)\n",
        "\n",
        "      m: is the slope of the line (also called gradient), representing the change in y for every unit change in x\n",
        "\n",
        "      b: is the y-intercept, representing the value of y when x is zero.\n",
        "\n",
        "We'll use the linear regression formula to make a straight line with *known* **parameters**."
      ],
      "metadata": {
        "id": "AkjdHxtkWPVT"
      }
    },
    {
      "cell_type": "code",
      "source": [
        "# Create *known* parameters\n",
        "weight = 0.7\n",
        "bias = 0.3\n",
        "# These terms are very common in neural networks but for our current goal, in the linear regression formula -> m is weights and b is bias\n",
        "\n",
        "# Create\n",
        "start = 0\n",
        "end = 1\n",
        "step = 0.02\n",
        "X = torch.arange(start,end,step).unsqueeze(dim=1)\n",
        "y = weight*X + bias\n",
        "X[:10],y[:10]"
      ],
      "metadata": {
        "colab": {
          "base_uri": "https://localhost:8080/"
        },
        "id": "-pV_-SY9WY8W",
        "outputId": "d16b7c58-5a88-4a3b-d489-51c33cd070c3"
      },
      "execution_count": 52,
      "outputs": [
        {
          "output_type": "execute_result",
          "data": {
            "text/plain": [
              "(tensor([[0.0000],\n",
              "         [0.0200],\n",
              "         [0.0400],\n",
              "         [0.0600],\n",
              "         [0.0800],\n",
              "         [0.1000],\n",
              "         [0.1200],\n",
              "         [0.1400],\n",
              "         [0.1600],\n",
              "         [0.1800]]),\n",
              " tensor([[0.3000],\n",
              "         [0.3140],\n",
              "         [0.3280],\n",
              "         [0.3420],\n",
              "         [0.3560],\n",
              "         [0.3700],\n",
              "         [0.3840],\n",
              "         [0.3980],\n",
              "         [0.4120],\n",
              "         [0.4260]]))"
            ]
          },
          "metadata": {},
          "execution_count": 52
        }
      ]
    },
    {
      "cell_type": "code",
      "source": [
        "len(X),len(y)"
      ],
      "metadata": {
        "colab": {
          "base_uri": "https://localhost:8080/"
        },
        "id": "oS65vyuhifs6",
        "outputId": "cbe8a1b0-8f51-493e-c603-2294fa577ec5"
      },
      "execution_count": 53,
      "outputs": [
        {
          "output_type": "execute_result",
          "data": {
            "text/plain": [
              "(50, 50)"
            ]
          },
          "metadata": {},
          "execution_count": 53
        }
      ]
    },
    {
      "cell_type": "markdown",
      "source": [
        "### Splitting data into training and test sets (one of the most important concepts in machine learning in general)\n",
        "\n",
        "Lets create a training and test set for our data"
      ],
      "metadata": {
        "id": "P2-bSNqskNPy"
      }
    },
    {
      "cell_type": "code",
      "source": [
        "# Create a train/test split\n",
        "train_split = int(0.8 * len(X))\n",
        "train_split"
      ],
      "metadata": {
        "colab": {
          "base_uri": "https://localhost:8080/"
        },
        "id": "WE6nJSFYmerZ",
        "outputId": "fc87c79a-5096-45d2-b76a-ef6d11b5c87a"
      },
      "execution_count": 54,
      "outputs": [
        {
          "output_type": "execute_result",
          "data": {
            "text/plain": [
              "40"
            ]
          },
          "metadata": {},
          "execution_count": 54
        }
      ]
    },
    {
      "cell_type": "code",
      "source": [
        "X_train,y_train = X[:train_split],y[:train_split]\n",
        "X_test,y_test = X[train_split:],y[train_split:]"
      ],
      "metadata": {
        "id": "IXatH8D8ogFi"
      },
      "execution_count": 55,
      "outputs": []
    },
    {
      "cell_type": "code",
      "source": [
        "len(X_train),len(y_train)"
      ],
      "metadata": {
        "colab": {
          "base_uri": "https://localhost:8080/"
        },
        "id": "HjqHdQtqo21b",
        "outputId": "8a5cefc2-8ef8-4657-9a02-5f03901e8e6e"
      },
      "execution_count": 56,
      "outputs": [
        {
          "output_type": "execute_result",
          "data": {
            "text/plain": [
              "(40, 40)"
            ]
          },
          "metadata": {},
          "execution_count": 56
        }
      ]
    },
    {
      "cell_type": "code",
      "source": [
        "len(X_test),len(y_test)"
      ],
      "metadata": {
        "colab": {
          "base_uri": "https://localhost:8080/"
        },
        "id": "ptbDSe7co7G_",
        "outputId": "30977911-b159-4d33-8a2d-5d845abeb0df"
      },
      "execution_count": 57,
      "outputs": [
        {
          "output_type": "execute_result",
          "data": {
            "text/plain": [
              "(10, 10)"
            ]
          },
          "metadata": {},
          "execution_count": 57
        }
      ]
    },
    {
      "cell_type": "markdown",
      "source": [
        "how might we better visualize our data?\n",
        "\n",
        "This is where the data explorer's motto comes in!\n",
        "\n",
        "\"Visualize, Visualize and Visualize!\""
      ],
      "metadata": {
        "id": "e_s3Yt5xo-eY"
      }
    },
    {
      "cell_type": "markdown",
      "source": [
        "Documentation for `plt.scatter` - https://matplotlib.org/stable/api/_as_gen/matplotlib.pyplot.scatter.html"
      ],
      "metadata": {
        "id": "HszJrApzqpK-"
      }
    },
    {
      "cell_type": "code",
      "source": [
        "def plot_predictions(train_data=X_train,train_labels=y_train,test_data=X_test,test_labels=y_test,predictions=None):\n",
        "  \"\"\"\n",
        "  Plots training data, test data and compares predictions.\n",
        "  \"\"\"\n",
        "  plt.figure(figsize=(10,7))\n",
        "\n",
        "  # Plot the training data in blue\n",
        "  plt.scatter(train_data,train_labels,c=\"b\",s=4,label=\"Training Data\")\n",
        "\n",
        "  # Plot the test data in green\n",
        "  plt.scatter(test_data,test_labels,c=\"g\",s=4,label=\"Testing Data\")\n",
        "\n",
        "  # Plotting predictions if they exist else dont\n",
        "  if predictions is not None:\n",
        "    # Plotting predictions in red\n",
        "    plt.scatter(test_data,predictions,c = \"r\",s=4,label=\"Predictions\")\n",
        "\n",
        "  # Show the legend\n",
        "  plt.legend(prop={\"size\":14})"
      ],
      "metadata": {
        "id": "tF0G69R8p9bv"
      },
      "execution_count": 58,
      "outputs": []
    },
    {
      "cell_type": "code",
      "source": [
        "plot_predictions() # Since we hardcoded the inputs we can just run as is without input params"
      ],
      "metadata": {
        "colab": {
          "base_uri": "https://localhost:8080/",
          "height": 599
        },
        "id": "dTx5yK7asFkj",
        "outputId": "386a12ca-1309-4266-8138-f1a22480c18a"
      },
      "execution_count": 59,
      "outputs": [
        {
          "output_type": "display_data",
          "data": {
            "text/plain": [
              "<Figure size 1000x700 with 1 Axes>"
            ],
            "image/png": "[encoded data removed]"
          },
          "metadata": {}
        }
      ]
    },
    {
      "cell_type": "markdown",
      "source": [
        "Blue dots are input , green dots are ideal output\n",
        "\n",
        "Red dots would be the predictions. Since we dont have any predictions yet, the red dots are missing.\n",
        "\n",
        "An ideal (perfect) model would have the red dots exactly over the green dots.\n",
        "\n"
      ],
      "metadata": {
        "id": "nWEYnEE4sVEg"
      }
    },
    {
      "cell_type": "markdown",
      "source": [
        "## 2. Build model\n",
        "\n",
        "Our first PyTorch model!\n",
        "\n",
        "Linear Regression Info - https://en.wikipedia.org/wiki/Linear_regression\n",
        "\n",
        "We are going to be building classes throughout the course. To get familiar with OOP in Python go through the following link\n",
        "\n",
        "Classes in Python - https://realpython.com/python3-object-oriented-programming/\n",
        "\n",
        "One iteration of an computation that looks like the linear regression equation is called forward computation\n",
        "\n",
        "What our model does:\n",
        "* Start with random values (weight & bias)\n",
        "* Look at training data and adjust the random values to better represent (or get closer to the ideal values/representation) the ideal values (the weight & bias) values we used for creating the data\n",
        "\n",
        "\n",
        "How does it do so?\n",
        "Through 2 main algorithms:\n",
        "1. Gradient Descent\n",
        "2. Backpropagation\n",
        "\n",
        "Gradient Descent is why we have requires_grad as True. What that does is when we run computations for the model, PyTorch will track the gradients for the parameters (weights and bias) which will then update the parameters through a combination of Gradient Descent and Backpropagation. PyTorch has this implemented so that we dont have to and we can write the high level code for the models to trigger these.\n",
        "\n",
        "Resources for more information:\n",
        "\n",
        "Gradient Descent - https://medium.com/@abhaysingh71711/gradient-descent-explained-the-engine-behind-ai-training-2d8ef6ecad6f\n",
        "\n",
        "https://www.3blue1brown.com/lessons/gradient-descent\n",
        "\n",
        "\n",
        "\n",
        "Backpropagation - https://www.ibm.com/think/topics/backpropagation\n",
        "\n",
        "https://www.3blue1brown.com/lessons/backpropagation\n",
        "\n"
      ],
      "metadata": {
        "id": "ndJU55h2sxBL"
      }
    },
    {
      "cell_type": "code",
      "source": [
        "# Create a linear regression model class\n",
        "class LinearRegressionModel(nn.Module): # <- almost everything in PyTorch inherits from nn.Module (Lego building brick for PyTorch models)\n",
        "  def __init__(self):\n",
        "    super().__init__()\n",
        "    self.weights = nn.Parameter(torch.randn(1,requires_grad=True,dtype=torch.float)) # Start with random and update, requires grad to track gradient, torch.float is the default type\n",
        "    self.bias = nn.Parameter(torch.randn(1,requires_grad=True,dtype=torch.float)) # Start with random and update, requires grad to track gradient, torch.float is the default type\n",
        "\n",
        "  # Forward method to define the computation in the model\n",
        "  def forward(self,x:torch.Tensor) -> torch.Tensor: # <- Here, \"x\" is the input data (in our current case its the training data)\n",
        "    return self.weights*x + self.bias # this is the linear regression formula"
      ],
      "metadata": {
        "id": "MuRoM-sAuIGi"
      },
      "execution_count": 60,
      "outputs": []
    },
    {
      "cell_type": "markdown",
      "source": [
        "`nn.Module` Documentation - https://docs.pytorch.org/docs/stable/generated/torch.nn.Module.html\n",
        "\n",
        "`nn.Parameter` Documentation - https://docs.pytorch.org/docs/stable/generated/torch.nn.parameter.Parameter.html\n",
        "\n",
        "`torch.randn` Documentation - https://docs.pytorch.org/docs/2.7/generated/torch.randn.html"
      ],
      "metadata": {
        "id": "G5HcsTHkmhvT"
      }
    },
    {
      "cell_type": "markdown",
      "source": [
        "### PyTorch model building essentials\n",
        "\n",
        "* `torch.nn` - contains all of the building blocks for computational graphs (a neural can be considered a computational graph)\n",
        "* `torch.nn.Parameter` - What parameters should our model try and learn (Often a layer from torch.nn will set these for us)\n",
        "* `torch.nn.Module` - The base class for all neural network modules, if you subclass it you have to overwrite forward()\n",
        "* `torch.optim` - This is where the optimizers in Pytorch live, they will help with Gradient Descent\n",
        "* `def forward()` -  All nn.Module subclasses require you to ovewrite forward(), this method defines what happens in the forward computation\n",
        "\n",
        "\n",
        "Best resource is the Pytorch Cheatsheet - https://docs.pytorch.org/tutorials/beginner/ptcheat.html"
      ],
      "metadata": {
        "id": "x-Qov7ASmkMd"
      }
    },
    {
      "cell_type": "markdown",
      "source": [
        "### Checking the contents of our PyTorch model\n",
        "\n",
        "Seeing whats inside our model. We can check our or model parameters or what is inside our model using `.parameters()`"
      ],
      "metadata": {
        "id": "1jFesg7t4ggP"
      }
    },
    {
      "cell_type": "code",
      "source": [
        "# Create a random seed (for uniformity)\n",
        "RANDOM_SEED = 42\n",
        "torch.manual_seed(RANDOM_SEED)\n",
        "\n",
        "# Create an instance of the model (this is a subclass of nn.Module)\n",
        "model_0 = LinearRegressionModel()\n",
        "\n",
        "model_0"
      ],
      "metadata": {
        "colab": {
          "base_uri": "https://localhost:8080/"
        },
        "id": "-GXKtP5m8FmV",
        "outputId": "a0d2548e-f716-4ea2-a7e5-2aad9e22c695"
      },
      "execution_count": 61,
      "outputs": [
        {
          "output_type": "execute_result",
          "data": {
            "text/plain": [
              "LinearRegressionModel()"
            ]
          },
          "metadata": {},
          "execution_count": 61
        }
      ]
    },
    {
      "cell_type": "code",
      "source": [
        "# Checking out the parameters of our model\n",
        "list(model_0.parameters())"
      ],
      "metadata": {
        "colab": {
          "base_uri": "https://localhost:8080/"
        },
        "id": "zab-WtJC9Vzh",
        "outputId": "eb6c179c-1f41-4e7a-bfe9-005d24370642"
      },
      "execution_count": 62,
      "outputs": [
        {
          "output_type": "execute_result",
          "data": {
            "text/plain": [
              "[Parameter containing:\n",
              " tensor([0.3367], requires_grad=True),\n",
              " Parameter containing:\n",
              " tensor([0.1288], requires_grad=True)]"
            ]
          },
          "metadata": {},
          "execution_count": 62
        }
      ]
    },
    {
      "cell_type": "code",
      "source": [
        "# List named parameters of the model\n",
        "model_0.state_dict()"
      ],
      "metadata": {
        "colab": {
          "base_uri": "https://localhost:8080/"
        },
        "id": "sLgqyJ2r-XDN",
        "outputId": "e01587fd-e9a1-4cac-afa6-beacd063fc06"
      },
      "execution_count": 63,
      "outputs": [
        {
          "output_type": "execute_result",
          "data": {
            "text/plain": [
              "OrderedDict([('weights', tensor([0.3367])), ('bias', tensor([0.1288]))])"
            ]
          },
          "metadata": {},
          "execution_count": 63
        }
      ]
    },
    {
      "cell_type": "code",
      "source": [
        "# Known parameters declared initially to generate data\n",
        "weight,bias"
      ],
      "metadata": {
        "colab": {
          "base_uri": "https://localhost:8080/"
        },
        "id": "UlBslvqG-4rW",
        "outputId": "e4f95c6b-685e-4526-a4b1-8af486f22f4b"
      },
      "execution_count": 64,
      "outputs": [
        {
          "output_type": "execute_result",
          "data": {
            "text/plain": [
              "(0.7, 0.3)"
            ]
          },
          "metadata": {},
          "execution_count": 64
        }
      ]
    },
    {
      "cell_type": "markdown",
      "source": [
        "Our goal with the model is to get these random named parameter values for weights and bias to get as close to or match the values for the known parameters weight & bias"
      ],
      "metadata": {
        "id": "jx5C2dGy_NQU"
      }
    },
    {
      "cell_type": "markdown",
      "source": [
        "### Making predictions using `torch.inference_mode()`\n",
        "\n",
        "To check our model's predictive power, let's see how well it predicts `y_test` based on `X_test`\n",
        "\n",
        "When we pass data through our model, its going to run it through our `forward()` method"
      ],
      "metadata": {
        "id": "laTCHStL_boQ"
      }
    },
    {
      "cell_type": "code",
      "source": [
        "X_test, y_test"
      ],
      "metadata": {
        "colab": {
          "base_uri": "https://localhost:8080/"
        },
        "id": "dFkNq7jNC9VC",
        "outputId": "949d2d41-4f2f-4596-e937-0d9321fa255e"
      },
      "execution_count": 65,
      "outputs": [
        {
          "output_type": "execute_result",
          "data": {
            "text/plain": [
              "(tensor([[0.8000],\n",
              "         [0.8200],\n",
              "         [0.8400],\n",
              "         [0.8600],\n",
              "         [0.8800],\n",
              "         [0.9000],\n",
              "         [0.9200],\n",
              "         [0.9400],\n",
              "         [0.9600],\n",
              "         [0.9800]]),\n",
              " tensor([[0.8600],\n",
              "         [0.8740],\n",
              "         [0.8880],\n",
              "         [0.9020],\n",
              "         [0.9160],\n",
              "         [0.9300],\n",
              "         [0.9440],\n",
              "         [0.9580],\n",
              "         [0.9720],\n",
              "         [0.9860]]))"
            ]
          },
          "metadata": {},
          "execution_count": 65
        }
      ]
    },
    {
      "cell_type": "code",
      "source": [
        "# Make predictions with model\n",
        "with torch.inference_mode():\n",
        "  y_preds = model_0(X_test)\n",
        "\n",
        "y_preds"
      ],
      "metadata": {
        "colab": {
          "base_uri": "https://localhost:8080/"
        },
        "id": "JsWvlzQsCo3V",
        "outputId": "75c99ee6-2bee-46c0-e112-022c6caa8f4e"
      },
      "execution_count": 66,
      "outputs": [
        {
          "output_type": "execute_result",
          "data": {
            "text/plain": [
              "tensor([[0.3982],\n",
              "        [0.4049],\n",
              "        [0.4116],\n",
              "        [0.4184],\n",
              "        [0.4251],\n",
              "        [0.4318],\n",
              "        [0.4386],\n",
              "        [0.4453],\n",
              "        [0.4520],\n",
              "        [0.4588]])"
            ]
          },
          "metadata": {},
          "execution_count": 66
        }
      ]
    },
    {
      "cell_type": "markdown",
      "source": [
        "We use a context manager i.e. `torch.inference_mode()` here. We could do it without this and we would still get the output but with also a grad funtion in the predictions.\n",
        "\n",
        "\n",
        "What inference mode does is that it turns off the gradient tracking. Since we are doing inference and not training we dont need to keep track of gradients. Which makes it so pytorch is keeping track of less numbers in the background giving us a performance boost.\n",
        "\n",
        "See more on inference mode here: https://x.com/PyTorch/status/1437838231505096708?lang=en\n",
        "\n",
        "inference mode is new, old way is torch.no_grad(). A lot of people use this but there are some advantages to inference mode over no grad which are mentioned on the above link"
      ],
      "metadata": {
        "id": "ToBs9CzKEf6b"
      }
    },
    {
      "cell_type": "code",
      "source": [
        "y_test"
      ],
      "metadata": {
        "colab": {
          "base_uri": "https://localhost:8080/"
        },
        "id": "tfCAefK-DRSu",
        "outputId": "b997b6b5-c6f6-407e-ca39-4cb03589739d"
      },
      "execution_count": 67,
      "outputs": [
        {
          "output_type": "execute_result",
          "data": {
            "text/plain": [
              "tensor([[0.8600],\n",
              "        [0.8740],\n",
              "        [0.8880],\n",
              "        [0.9020],\n",
              "        [0.9160],\n",
              "        [0.9300],\n",
              "        [0.9440],\n",
              "        [0.9580],\n",
              "        [0.9720],\n",
              "        [0.9860]])"
            ]
          },
          "metadata": {},
          "execution_count": 67
        }
      ]
    },
    {
      "cell_type": "code",
      "source": [
        "plot_predictions(predictions=y_preds)"
      ],
      "metadata": {
        "colab": {
          "base_uri": "https://localhost:8080/",
          "height": 599
        },
        "id": "3EFry46ZD_zq",
        "outputId": "9f0f2616-cadc-4852-dbcb-92fbceb75884"
      },
      "execution_count": 68,
      "outputs": [
        {
          "output_type": "display_data",
          "data": {
            "text/plain": [
              "<Figure size 1000x700 with 1 Axes>"
            ],
            "image/png": "[encoded data removed]"
          },
          "metadata": {}
        }
      ]
    },
    {
      "cell_type": "markdown",
      "source": [
        "## Training a Model\n",
        "\n",
        "The whole idea of training is for a model to move from some *unknown* parameters (these may be random) to some *known* parameters\n",
        "\n",
        "Or in other words from a poor representation of the data to a better representation of data\n",
        "\n",
        "One way to measure how poor/how wrong the predictions are of our model -> Use a loss function (also called a criterion or a cost function)\n",
        "\n",
        "\n",
        "Pytorch has many inbuilt loss functions -  https://docs.pytorch.org/docs/stable/nn.html#loss-functions\n",
        "\n",
        "Optimizers in PyTorch - https://docs.pytorch.org/docs/stable/optim.html (SGD and its iterations are very popular)\n",
        "\n",
        "Parameter -> Something that the model sets by itself, HyperParameter -> Something that we set as a programmer\n",
        "\n",
        "\n",
        "Note: Throughout the course, We're going to refer to it as loss function\n",
        "\n",
        "Things we need to train:\n",
        "\n",
        "* **Loss function:** A function to measure how wrong your model's predictions are to the ideal outputs, **lower is better**\n",
        "\n",
        "* **Optimizer:** Takes into account the loss of a model and adjusts the model's parameters (Eg. weight & bias in our case) to improve the loss function\n",
        "  * Inside the optimizer, you'll often have to set two parameters:\n",
        "    * `params` - the model parameters you'd like to optimize, for example in our case: params=model_0.prarmeters\n",
        "    * `lr` (learning rate) - the learning rate is a hyperparameter that defines how big/small the optimizer changes the parameters at each step (a small `lr` results in small changes, a large `lr` results in large changes)\n",
        "\n",
        "And specifically for PyTorch, we need:\n",
        "* A training loop\n",
        "* A testing loop\n",
        "\n"
      ],
      "metadata": {
        "id": "aRByT5VOEE8b"
      }
    },
    {
      "cell_type": "markdown",
      "source": [
        "We will be using the `L1Loss` in our case, which is basically the mean absolute error\n",
        "\n",
        "Documentation - https://docs.pytorch.org/docs/stable/generated/torch.nn.L1Loss.html#torch.nn.L1Loss"
      ],
      "metadata": {
        "id": "AM3Ys4AGeR5q"
      }
    },
    {
      "cell_type": "code",
      "source": [
        "list(model_0.parameters())"
      ],
      "metadata": {
        "id": "APug-FhuvygE",
        "colab": {
          "base_uri": "https://localhost:8080/"
        },
        "outputId": "a46c9224-382d-4aa4-e53b-3f9752a3d1c8"
      },
      "execution_count": 69,
      "outputs": [
        {
          "output_type": "execute_result",
          "data": {
            "text/plain": [
              "[Parameter containing:\n",
              " tensor([0.3367], requires_grad=True),\n",
              " Parameter containing:\n",
              " tensor([0.1288], requires_grad=True)]"
            ]
          },
          "metadata": {},
          "execution_count": 69
        }
      ]
    },
    {
      "cell_type": "code",
      "source": [
        "# Check out our model's parameters (a parameter is a value that the model sets itself)\n",
        "model_0.state_dict()"
      ],
      "metadata": {
        "colab": {
          "base_uri": "https://localhost:8080/"
        },
        "id": "1sCPF4bMfS0N",
        "outputId": "b9fe7ef8-350c-440f-c642-ac2374b25b7d"
      },
      "execution_count": 70,
      "outputs": [
        {
          "output_type": "execute_result",
          "data": {
            "text/plain": [
              "OrderedDict([('weights', tensor([0.3367])), ('bias', tensor([0.1288]))])"
            ]
          },
          "metadata": {},
          "execution_count": 70
        }
      ]
    },
    {
      "cell_type": "code",
      "source": [
        "# Setup a loss function\n",
        "loss_fn = nn.L1Loss()\n",
        "\n",
        "# Setup an optimizer (Stochastic  Gradient Descent)\n",
        "optimizer = torch.optim.SGD(params=model_0.parameters(),\n",
        "                            lr=0.01) # lr = learning rate = possibly the most important hyperparameter you can set. Smaller the learning rate-> smaller the adjustment in the model parameters and vice versa"
      ],
      "metadata": {
        "id": "zki5UuXjfYN9"
      },
      "execution_count": 71,
      "outputs": []
    },
    {
      "cell_type": "code",
      "source": [
        "loss_fn"
      ],
      "metadata": {
        "colab": {
          "base_uri": "https://localhost:8080/"
        },
        "id": "h6aXVpl7fmxG",
        "outputId": "42645106-9229-4823-b0ef-d7c52383f29d"
      },
      "execution_count": 72,
      "outputs": [
        {
          "output_type": "execute_result",
          "data": {
            "text/plain": [
              "L1Loss()"
            ]
          },
          "metadata": {},
          "execution_count": 72
        }
      ]
    },
    {
      "cell_type": "code",
      "source": [
        "optimizer"
      ],
      "metadata": {
        "colab": {
          "base_uri": "https://localhost:8080/"
        },
        "id": "rqq9FUjUfn6E",
        "outputId": "be7eabbf-ae77-468e-fa39-f6084e9f2501"
      },
      "execution_count": 73,
      "outputs": [
        {
          "output_type": "execute_result",
          "data": {
            "text/plain": [
              "SGD (\n",
              "Parameter Group 0\n",
              "    dampening: 0\n",
              "    differentiable: False\n",
              "    foreach: None\n",
              "    fused: None\n",
              "    lr: 0.01\n",
              "    maximize: False\n",
              "    momentum: 0\n",
              "    nesterov: False\n",
              "    weight_decay: 0\n",
              ")"
            ]
          },
          "metadata": {},
          "execution_count": 73
        }
      ]
    },
    {
      "cell_type": "markdown",
      "source": [
        "Which loss function and optimizer should I use?\n",
        "\n",
        "Problem sprecific. Trail and Error is key. For regression problems like ours -> a loss function of `nn.L1Loss()` and an optimizer like `torch.optim.SGD()` should work fine.\n",
        "\n",
        "But for classification problems like dog vs cat images, we would likely want to use a loss function of `nn.BCELoss()` (binary cross entropy loss)"
      ],
      "metadata": {
        "id": "a09kBOuKjF4Q"
      }
    },
    {
      "cell_type": "markdown",
      "source": [
        "### Building a training loop (and a testing loop) in PyTorch\n",
        "\n",
        "A couple of things we need in a training loop:\n",
        "0. Loop through the data and do following...\n",
        "1. Forward pass (this involves data moving through our model's `forward()` functions) to make predictions on the data - also called Forward Propagation\n",
        "2. Calculate the loss (compare forward pass predictions to ground truth labels)\n",
        "3. Optimizer zero grad\n",
        "4. Loss backward - move backwards through the network to calculate the gradients of each of the parameters of our model with respect to the loss  (**backpropagation**)\n",
        "5. Optimizer step - use the optimizer to adjust our model's parameters to try and improve the loss (**gradient descent**)"
      ],
      "metadata": {
        "id": "iiuWxK6AmDvz"
      }
    },
    {
      "cell_type": "code",
      "source": [
        "list(model_0.parameters())"
      ],
      "metadata": {
        "colab": {
          "base_uri": "https://localhost:8080/"
        },
        "id": "57cn5030D584",
        "outputId": "978a7a59-133b-45c7-da57-7b8523aeb989"
      },
      "execution_count": 74,
      "outputs": [
        {
          "output_type": "execute_result",
          "data": {
            "text/plain": [
              "[Parameter containing:\n",
              " tensor([0.3367], requires_grad=True),\n",
              " Parameter containing:\n",
              " tensor([0.1288], requires_grad=True)]"
            ]
          },
          "metadata": {},
          "execution_count": 74
        }
      ]
    },
    {
      "cell_type": "code",
      "source": [
        "# An epoch is one loop through the data... (this is a hyper parameter because we have set it ourselves)\n",
        "epochs = 1\n",
        "### Training\n",
        "# 0. Loop through the data\n",
        "for epoch in range(epochs):\n",
        "  # Set the model to training mode\n",
        "  model_0.train() # train mode in PyTorch sets all parameters that require gradients to require gradients\n",
        "\n",
        "  # 1. Forward pass\n",
        "  y_pred = model_0(X_train)\n",
        "\n",
        "  # 2. Calculate the loss\n",
        "  loss = loss_fn(y_pred,y_train) # Check documentation for order of predictions and true labels, is different for different loss functions\n",
        "\n",
        "  # 3. Optimizer zero grad\n",
        "  optimizer.zero_grad()\n",
        "\n",
        "  # 4. Perform back propagation on the loss with respect to the parametets of the model\n",
        "  loss.backward()\n",
        "\n",
        "  # 5. Step the optimizer (perform gradient descent)\n",
        "  optimizer.step() # by default how the optimizer changes will accumulate through the loop soo we have to zero them above in step 3 for the next iteration of the loop\n",
        "\n",
        "\n",
        "  # model_0.eval() # turns off gradient tracking\n",
        ""
      ],
      "metadata": {
        "id": "pGgM5-KSAJUZ"
      },
      "execution_count": 73,
      "outputs": []
    }
  ]
}