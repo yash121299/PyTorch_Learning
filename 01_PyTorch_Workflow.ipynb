{
  "nbformat": 4,
  "nbformat_minor": 0,
  "metadata": {
    "colab": {
      "provenance": [],
      "authorship_tag": "ABX9TyN8WBm7A6rtJ16ma/mbAgQZ",
      "include_colab_link": true
    },
    "kernelspec": {
      "name": "python3",
      "display_name": "Python 3"
    },
    "language_info": {
      "name": "python"
    }
  },
  "cells": [
    {
      "cell_type": "markdown",
      "metadata": {
        "id": "view-in-github",
        "colab_type": "text"
      },
      "source": [
        "<a href=\"https://colab.research.google.com/github/yash121299/PyTorch_Learning/blob/main/01_PyTorch_Workflow.ipynb\" target=\"_parent\"><img src=\"https://colab.research.google.com/assets/colab-badge.svg\" alt=\"Open In Colab\"/></a>"
      ]
    },
    {
      "cell_type": "markdown",
      "source": [
        "# PyTorch Workflow\n",
        "\n",
        "Exploring a PyTorch workflow end-to-end.\n",
        "\n",
        "Resources:\n",
        "* Ground Truth notebook (Github Link) - https://github.com/mrdbourke/pytorch-deep-learning/blob/main/01_pytorch_workflow.ipynb\n",
        "* Book Version (Online Notebook) - https://www.learnpytorch.io/01_pytorch_workflow/\n",
        "* Ask a Question (Github Discussions page) - https://github.com/mrdbourke/pytorch-deep-learning/discussions"
      ],
      "metadata": {
        "id": "sGVyX0Xxm0RR"
      }
    },
    {
      "cell_type": "markdown",
      "source": [
        "What we are covering:\n",
        "\n",
        "1. Data (preparing and loading)\n",
        "2. Build model\n",
        "3. Fitting the model to data (training)\n",
        "4. Making predictions and evaluating a model (inference)\n",
        "5. Saving and loading a model\n",
        "6. Putting it all together"
      ],
      "metadata": {
        "id": "aYHT7NCnSHGU"
      }
    },
    {
      "cell_type": "code",
      "source": [
        "# Making this into a dictonary so we can reference to it later on in the code\n",
        "what_were_covering = {\n",
        "    1: \"data (prepare and load)\",\n",
        "    2: \"build model\",\n",
        "    3: \"fitting the model to data (training)\",\n",
        "    4: \"Making predictions and evaluating the model (inference)\",\n",
        "    5: \"Saving and loading the model\",\n",
        "    6: \"Putting it all together\"\n",
        "}\n",
        "what_were_covering"
      ],
      "metadata": {
        "colab": {
          "base_uri": "https://localhost:8080/"
        },
        "id": "E4XvgR1mUCP2",
        "outputId": "259884fd-8f43-4350-a80a-6e1fb3b73ac9"
      },
      "execution_count": 2,
      "outputs": [
        {
          "output_type": "execute_result",
          "data": {
            "text/plain": [
              "{1: 'data (prepare and load)',\n",
              " 2: 'build model',\n",
              " 3: 'fitting the model to data (training)',\n",
              " 4: 'Making predictions and evaluating the model (inference)',\n",
              " 5: 'Saving and loading the model',\n",
              " 6: 'Putting it all together'}"
            ]
          },
          "metadata": {},
          "execution_count": 2
        }
      ]
    },
    {
      "cell_type": "code",
      "source": [
        "#Importing Libraries\n",
        "import torch\n",
        "from torch import nn # nn contains all of Pytorch's building blocks for neural networks\n",
        "import matplotlib.pyplot as plt\n",
        "\n",
        "print(torch.__version__)"
      ],
      "metadata": {
        "colab": {
          "base_uri": "https://localhost:8080/"
        },
        "id": "eD95f7CZUq6s",
        "outputId": "c9ed9ace-2482-46cb-8e59-c7b495816604"
      },
      "execution_count": 3,
      "outputs": [
        {
          "output_type": "stream",
          "name": "stdout",
          "text": [
            "2.6.0+cu124\n"
          ]
        }
      ]
    },
    {
      "cell_type": "markdown",
      "source": [
        "`nn` Module Documentation - https://docs.pytorch.org/docs/stable/nn.html\n",
        "\n",
        "`nn` contains the building blocks (mostly layers) for neural networks. Our job is to organize those layers to create any type of neural networks. A neural network is basically a computational graph."
      ],
      "metadata": {
        "id": "6gxYCmhKVFGm"
      }
    },
    {
      "cell_type": "markdown",
      "source": [
        "## 1.Data (Preparing and Loading)\n",
        "\n",
        "Data can be almost anything... in machine learning.\n",
        "\n",
        "* Excel Spreadsheet\n",
        "* Images of any kind\n",
        "* Videos (YouTube has lots of data...)\n",
        "* Audio like songs or podcasts\n",
        "* DNA\n",
        "* Text\n",
        "\n",
        "Machine Learning (Deep Learning) is a game of 2 parts:\n",
        "1. Get data into a numerical representation.\n",
        "2. Build a model to learn patterns in that numerical representation\n",
        "\n",
        "\n",
        "To showcase this, let's create some *known* data using the linear regression formula\n",
        "\n",
        "     The general equation for a linear regression is y = mx + b, where:\n",
        "\n",
        "      y: is the dependent variable (the one you're trying to predict)\n",
        "\n",
        "      x: is the independent variable (the one you're using to make predictions)\n",
        "\n",
        "      m: is the slope of the line (also called gradient), representing the change in y for every unit change in x\n",
        "\n",
        "      b: is the y-intercept, representing the value of y when x is zero.\n",
        "\n",
        "We'll use the linear regression formula to make a straight line with *known* **parameters**."
      ],
      "metadata": {
        "id": "AkjdHxtkWPVT"
      }
    },
    {
      "cell_type": "code",
      "source": [
        "# Create *known* parameters\n",
        "weight = 0.7\n",
        "bias = 0.3\n",
        "# These terms are very common in neural networks but for our current goal, in the linear regression formula -> m is weights and b is bias\n",
        "\n",
        "# Create\n",
        "start = 0\n",
        "end = 1\n",
        "step = 0.02\n",
        "X = torch.arange(start,end,step).unsqueeze(dim=1)\n",
        "y = weight*X + bias\n",
        "X[:10],y[:10]"
      ],
      "metadata": {
        "colab": {
          "base_uri": "https://localhost:8080/"
        },
        "id": "-pV_-SY9WY8W",
        "outputId": "a4f1ebe6-2caf-462b-9ac4-c6a59c28a596"
      },
      "execution_count": 4,
      "outputs": [
        {
          "output_type": "execute_result",
          "data": {
            "text/plain": [
              "(tensor([[0.0000],\n",
              "         [0.0200],\n",
              "         [0.0400],\n",
              "         [0.0600],\n",
              "         [0.0800],\n",
              "         [0.1000],\n",
              "         [0.1200],\n",
              "         [0.1400],\n",
              "         [0.1600],\n",
              "         [0.1800]]),\n",
              " tensor([[0.3000],\n",
              "         [0.3140],\n",
              "         [0.3280],\n",
              "         [0.3420],\n",
              "         [0.3560],\n",
              "         [0.3700],\n",
              "         [0.3840],\n",
              "         [0.3980],\n",
              "         [0.4120],\n",
              "         [0.4260]]))"
            ]
          },
          "metadata": {},
          "execution_count": 4
        }
      ]
    },
    {
      "cell_type": "code",
      "source": [
        "len(X),len(y)"
      ],
      "metadata": {
        "colab": {
          "base_uri": "https://localhost:8080/"
        },
        "id": "oS65vyuhifs6",
        "outputId": "9081de6f-f628-4a3f-dbb2-a459100e1620"
      },
      "execution_count": 5,
      "outputs": [
        {
          "output_type": "execute_result",
          "data": {
            "text/plain": [
              "(50, 50)"
            ]
          },
          "metadata": {},
          "execution_count": 5
        }
      ]
    },
    {
      "cell_type": "markdown",
      "source": [
        "### Splitting data into training and test sets (one of the most important concepts in machine learning in general)\n",
        "\n",
        "Lets create a training and test set for our data"
      ],
      "metadata": {
        "id": "P2-bSNqskNPy"
      }
    },
    {
      "cell_type": "code",
      "source": [
        "# Create a train/test split\n",
        "train_split = int(0.8 * len(X))\n",
        "train_split"
      ],
      "metadata": {
        "colab": {
          "base_uri": "https://localhost:8080/"
        },
        "id": "WE6nJSFYmerZ",
        "outputId": "d48c6279-7934-4d52-b45e-7006ff4f6d5d"
      },
      "execution_count": 6,
      "outputs": [
        {
          "output_type": "execute_result",
          "data": {
            "text/plain": [
              "40"
            ]
          },
          "metadata": {},
          "execution_count": 6
        }
      ]
    },
    {
      "cell_type": "code",
      "source": [
        "X_train,y_train = X[:train_split],y[:train_split]\n",
        "X_test,y_test = X[train_split:],y[train_split:]"
      ],
      "metadata": {
        "id": "IXatH8D8ogFi"
      },
      "execution_count": 7,
      "outputs": []
    },
    {
      "cell_type": "code",
      "source": [
        "len(X_train),len(y_train)"
      ],
      "metadata": {
        "colab": {
          "base_uri": "https://localhost:8080/"
        },
        "id": "HjqHdQtqo21b",
        "outputId": "6ff1b45b-ba08-4cc4-f832-3de977186faa"
      },
      "execution_count": 8,
      "outputs": [
        {
          "output_type": "execute_result",
          "data": {
            "text/plain": [
              "(40, 40)"
            ]
          },
          "metadata": {},
          "execution_count": 8
        }
      ]
    },
    {
      "cell_type": "code",
      "source": [
        "len(X_test),len(y_test)"
      ],
      "metadata": {
        "colab": {
          "base_uri": "https://localhost:8080/"
        },
        "id": "ptbDSe7co7G_",
        "outputId": "980397a7-59db-4fb8-e198-8cceecbb52c5"
      },
      "execution_count": 9,
      "outputs": [
        {
          "output_type": "execute_result",
          "data": {
            "text/plain": [
              "(10, 10)"
            ]
          },
          "metadata": {},
          "execution_count": 9
        }
      ]
    },
    {
      "cell_type": "markdown",
      "source": [
        "how might we better visualize our data?\n",
        "\n",
        "This is where the data explorer's motto comes in!\n",
        "\n",
        "\"Visualize, Visualize and Visualize!\""
      ],
      "metadata": {
        "id": "e_s3Yt5xo-eY"
      }
    },
    {
      "cell_type": "markdown",
      "source": [
        "Documentation for `plt.scatter` - https://matplotlib.org/stable/api/_as_gen/matplotlib.pyplot.scatter.html"
      ],
      "metadata": {
        "id": "HszJrApzqpK-"
      }
    },
    {
      "cell_type": "code",
      "source": [
        "def plot_predictions(train_data=X_train,train_labels=y_train,test_data=X_test,test_labels=y_test,predictions=None):\n",
        "  \"\"\"\n",
        "  Plots training data, test data and compares predictions.\n",
        "  \"\"\"\n",
        "  plt.figure(figsize=(10,7))\n",
        "\n",
        "  # Plot the training data in blue\n",
        "  plt.scatter(train_data,train_labels,c=\"b\",s=4,label=\"Training Data\")\n",
        "\n",
        "  # Plot the test data in green\n",
        "  plt.scatter(test_data,test_labels,c=\"g\",s=4,label=\"Testing Data\")\n",
        "\n",
        "  # Plotting predictions if they exist else dont\n",
        "  if predictions is not None:\n",
        "    # Plotting predictions in red\n",
        "    plt.scatter(test_data,predictions,c = \"r\",s=4,label=\"Predictions\")\n",
        "\n",
        "  # Show the legend\n",
        "  plt.legend(prop={\"size\":14})"
      ],
      "metadata": {
        "id": "tF0G69R8p9bv"
      },
      "execution_count": 10,
      "outputs": []
    },
    {
      "cell_type": "code",
      "source": [
        "plot_predictions() # Since we hardcoded the inputs we can just run as is without input params"
      ],
      "metadata": {
        "colab": {
          "base_uri": "https://localhost:8080/",
          "height": 599
        },
        "id": "dTx5yK7asFkj",
        "outputId": "9c1bc24e-8b44-4e1a-d311-4a1baac4af09"
      },
      "execution_count": 11,
      "outputs": [
        {
          "output_type": "display_data",
          "data": {
            "text/plain": [
              "<Figure size 1000x700 with 1 Axes>"
            ],
            "image/png": "[encoded data removed]"
          },
          "metadata": {}
        }
      ]
    },
    {
      "cell_type": "markdown",
      "source": [
        "Blue dots are input , green dots are ideal output\n",
        "\n",
        "Red dots would be the predictions. Since we dont have any predictions yet, the red dots are missing.\n",
        "\n",
        "An ideal (perfect) model would have the red dots exactly over the green dots.\n",
        "\n"
      ],
      "metadata": {
        "id": "nWEYnEE4sVEg"
      }
    },
    {
      "cell_type": "markdown",
      "source": [
        "## 2. Build model\n",
        "\n",
        "Our first PyTorch model!\n",
        "\n",
        "Linear Regression Info - https://en.wikipedia.org/wiki/Linear_regression\n",
        "\n",
        "Classes in Python - https://realpython.com/python3-object-oriented-programming/"
      ],
      "metadata": {
        "id": "ndJU55h2sxBL"
      }
    },
    {
      "cell_type": "code",
      "source": [
        "# Create a linear regression model class\n"
      ],
      "metadata": {
        "id": "MuRoM-sAuIGi"
      },
      "execution_count": 12,
      "outputs": []
    }
  ]
}